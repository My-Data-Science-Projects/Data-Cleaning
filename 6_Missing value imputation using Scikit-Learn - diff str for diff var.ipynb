{
 "cells": [
  {
   "cell_type": "markdown",
   "id": "71afdde0",
   "metadata": {},
   "source": [
    "# Data Cleaning\n",
    "## Missing value imputation using Scikit-Learn\n",
    "### Different strategy for different variables(Numerical & Categorical) with Scikit-Learn"
   ]
  },
  {
   "cell_type": "code",
   "execution_count": 1,
   "id": "5041e55b",
   "metadata": {},
   "outputs": [],
   "source": [
    "import numpy as np \n",
    "import pandas as pd \n",
    "from sklearn.impute import SimpleImputer\n",
    "from sklearn.compose import ColumnTransformer\n",
    "from sklearn.pipeline import Pipeline"
   ]
  },
  {
   "cell_type": "code",
   "execution_count": 2,
   "id": "54348a74",
   "metadata": {},
   "outputs": [
    {
     "name": "stdout",
     "output_type": "stream",
     "text": [
      "Shape of train df =  (1460, 81)\n",
      "Shape of test df =  (1459, 80)\n"
     ]
    }
   ],
   "source": [
    "train = pd.read_csv(r\"C:\\Users\\akash\\jupyter notebook\\ML_Indian_AI_Course\\Data Cleaning\\datasets\\house-prices-advanced-regression-techniques\\train.csv\")\n",
    "test = pd.read_csv(r\"C:\\Users\\akash\\jupyter notebook\\ML_Indian_AI_Course\\Data Cleaning\\datasets\\house-prices-advanced-regression-techniques\\test.csv\")\n",
    "print(\"Shape of train df = \", train.shape)\n",
    "print(\"Shape of test df = \", test.shape)"
   ]
  },
  {
   "cell_type": "code",
   "execution_count": 3,
   "id": "c75e6293",
   "metadata": {},
   "outputs": [
    {
     "name": "stdout",
     "output_type": "stream",
     "text": [
      "Shape of X_train df =  (1460, 80)\n",
      "Shape of y_train df =  (1460,)\n",
      "Shape of X_test df =  (1459, 80)\n"
     ]
    }
   ],
   "source": [
    "X_train = train.drop(columns='SalePrice', axis = 1)\n",
    "y_train = train['SalePrice']\n",
    "X_test = test.copy()\n",
    "print(\"Shape of X_train df = \", X_train.shape)\n",
    "print(\"Shape of y_train df = \", y_train.shape)\n",
    "print(\"Shape of X_test df = \", X_test.shape)"
   ]
  },
  {
   "cell_type": "markdown",
   "id": "e25fc49f",
   "metadata": {},
   "source": [
    "# Missing value imputation"
   ]
  },
  {
   "cell_type": "code",
   "execution_count": 4,
   "id": "89226098",
   "metadata": {},
   "outputs": [
    {
     "data": {
      "text/plain": [
       "Id                 0\n",
       "MSSubClass         0\n",
       "MSZoning           0\n",
       "LotFrontage      259\n",
       "LotArea            0\n",
       "                ... \n",
       "MiscVal            0\n",
       "MoSold             0\n",
       "YrSold             0\n",
       "SaleType           0\n",
       "SaleCondition      0\n",
       "Length: 80, dtype: int64"
      ]
     },
     "execution_count": 4,
     "metadata": {},
     "output_type": "execute_result"
    }
   ],
   "source": [
    "isnull_sum = X_train.isnull().sum()\n",
    "isnull_sum"
   ]
  },
  {
   "cell_type": "code",
   "execution_count": 5,
   "id": "a2ffdb55",
   "metadata": {
    "code_folding": []
   },
   "outputs": [],
   "source": [
    "# finding the numerical variable which have mising value\n",
    "num_vars = X_train.select_dtypes(include=[\"int64\", \"float64\"]).columns\n",
    "num_vars_miss = [var for var in num_vars if isnull_sum[var]>0]"
   ]
  },
  {
   "cell_type": "code",
   "execution_count": 6,
   "id": "e6f47191",
   "metadata": {},
   "outputs": [
    {
     "data": {
      "text/plain": [
       "['LotFrontage', 'MasVnrArea', 'GarageYrBlt']"
      ]
     },
     "execution_count": 6,
     "metadata": {},
     "output_type": "execute_result"
    }
   ],
   "source": [
    "num_vars_miss"
   ]
  },
  {
   "cell_type": "code",
   "execution_count": 7,
   "id": "5fa76b7f",
   "metadata": {},
   "outputs": [
    {
     "data": {
      "text/plain": [
       "['Alley',\n",
       " 'MasVnrType',\n",
       " 'BsmtQual',\n",
       " 'BsmtCond',\n",
       " 'BsmtExposure',\n",
       " 'BsmtFinType1',\n",
       " 'BsmtFinType2',\n",
       " 'Electrical',\n",
       " 'FireplaceQu',\n",
       " 'GarageType',\n",
       " 'GarageFinish',\n",
       " 'GarageQual',\n",
       " 'GarageCond',\n",
       " 'PoolQC',\n",
       " 'Fence',\n",
       " 'MiscFeature']"
      ]
     },
     "execution_count": 7,
     "metadata": {},
     "output_type": "execute_result"
    }
   ],
   "source": [
    "# finding the categorical variable which have mising value\n",
    "cat_vars = X_train.select_dtypes(include=[\"O\"]).columns\n",
    "cat_vars_miss = [var for var in cat_vars if isnull_sum[var]>0]\n",
    "cat_vars_miss"
   ]
  },
  {
   "cell_type": "code",
   "execution_count": 8,
   "id": "aea7d51f",
   "metadata": {},
   "outputs": [],
   "source": [
    "num_var_mean = [\"LotFrontage\"]\n",
    "num_var_median = ['MasVnrArea', 'GarageYrBlt']\n",
    "cat_vars_mode = ['Alley',\n",
    " 'MasVnrType',\n",
    " 'BsmtQual',\n",
    " 'BsmtCond',\n",
    " 'BsmtExposure',\n",
    " 'BsmtFinType1',\n",
    " 'BsmtFinType2',\n",
    " 'Electrical',\n",
    " 'FireplaceQu',]\n",
    "cat_vars_missing = ['GarageType',\n",
    " 'GarageFinish',\n",
    " 'GarageQual',\n",
    " 'GarageCond',\n",
    " 'PoolQC',\n",
    " 'Fence',\n",
    " 'MiscFeature']"
   ]
  },
  {
   "cell_type": "code",
   "execution_count": 9,
   "id": "ea987ba2",
   "metadata": {},
   "outputs": [],
   "source": [
    "num_var_mean_imputer = Pipeline(steps=[(\"imputer\", SimpleImputer(strategy=\"mean\"))])\n",
    "num_var_median_imputer = Pipeline(steps=[(\"imputer\", SimpleImputer(strategy=\"median\"))])\n",
    "cat_vars_mode_imputer = Pipeline(steps=[(\"imputer\", SimpleImputer(strategy=\"most_frequent\"))])\n",
    "cat_vars_missing_imputer = Pipeline(steps=[(\"imputer\", SimpleImputer(strategy=\"constant\", fill_value=\"missing\"))])"
   ]
  },
  {
   "cell_type": "code",
   "execution_count": 10,
   "id": "b3d4d88a",
   "metadata": {},
   "outputs": [],
   "source": [
    "preprocessor = ColumnTransformer(transformers=[(\"mean_imputer\", num_var_mean_imputer, num_var_mean),\n",
    "                                (\"median_imputer\", num_var_median_imputer, num_var_median),\n",
    "                               (\"mode_imputer\", cat_vars_mode_imputer, cat_vars_mode),\n",
    "                               (\"missing_imputer\", cat_vars_missing_imputer, cat_vars_missing)])"
   ]
  },
  {
   "cell_type": "code",
   "execution_count": 11,
   "id": "6156c643",
   "metadata": {},
   "outputs": [
    {
     "data": {
      "text/plain": [
       "ColumnTransformer(transformers=[('mean_imputer',\n",
       "                                 Pipeline(steps=[('imputer', SimpleImputer())]),\n",
       "                                 ['LotFrontage']),\n",
       "                                ('median_imputer',\n",
       "                                 Pipeline(steps=[('imputer',\n",
       "                                                  SimpleImputer(strategy='median'))]),\n",
       "                                 ['MasVnrArea', 'GarageYrBlt']),\n",
       "                                ('mode_imputer',\n",
       "                                 Pipeline(steps=[('imputer',\n",
       "                                                  SimpleImputer(strategy='most_frequent'))]),\n",
       "                                 ['Alley', 'MasVnrType', 'BsmtQual', 'BsmtCond',\n",
       "                                  'BsmtExposure', 'BsmtFinType1',\n",
       "                                  'BsmtFinType2', 'Electrical',\n",
       "                                  'FireplaceQu']),\n",
       "                                ('missing_imputer',\n",
       "                                 Pipeline(steps=[('imputer',\n",
       "                                                  SimpleImputer(fill_value='missing',\n",
       "                                                                strategy='constant'))]),\n",
       "                                 ['GarageType', 'GarageFinish', 'GarageQual',\n",
       "                                  'GarageCond', 'PoolQC', 'Fence',\n",
       "                                  'MiscFeature'])])"
      ]
     },
     "execution_count": 11,
     "metadata": {},
     "output_type": "execute_result"
    }
   ],
   "source": [
    "preprocessor.fit(X_train)"
   ]
  },
  {
   "cell_type": "code",
   "execution_count": 12,
   "id": "ed923eb4",
   "metadata": {},
   "outputs": [
    {
     "data": {
      "text/plain": [
       "<bound method ColumnTransformer.transform of ColumnTransformer(transformers=[('mean_imputer',\n",
       "                                 Pipeline(steps=[('imputer', SimpleImputer())]),\n",
       "                                 ['LotFrontage']),\n",
       "                                ('median_imputer',\n",
       "                                 Pipeline(steps=[('imputer',\n",
       "                                                  SimpleImputer(strategy='median'))]),\n",
       "                                 ['MasVnrArea', 'GarageYrBlt']),\n",
       "                                ('mode_imputer',\n",
       "                                 Pipeline(steps=[('imputer',\n",
       "                                                  SimpleImputer(strategy='most_frequent'))]),\n",
       "                                 ['Alley', 'MasVnrType', 'BsmtQual', 'BsmtCond',\n",
       "                                  'BsmtExposure', 'BsmtFinType1',\n",
       "                                  'BsmtFinType2', 'Electrical',\n",
       "                                  'FireplaceQu']),\n",
       "                                ('missing_imputer',\n",
       "                                 Pipeline(steps=[('imputer',\n",
       "                                                  SimpleImputer(fill_value='missing',\n",
       "                                                                strategy='constant'))]),\n",
       "                                 ['GarageType', 'GarageFinish', 'GarageQual',\n",
       "                                  'GarageCond', 'PoolQC', 'Fence',\n",
       "                                  'MiscFeature'])])>"
      ]
     },
     "execution_count": 12,
     "metadata": {},
     "output_type": "execute_result"
    }
   ],
   "source": [
    "preprocessor.transform"
   ]
  },
  {
   "cell_type": "code",
   "execution_count": 13,
   "id": "56ac8110",
   "metadata": {},
   "outputs": [
    {
     "data": {
      "text/plain": [
       "array([70.04995837])"
      ]
     },
     "execution_count": 13,
     "metadata": {},
     "output_type": "execute_result"
    }
   ],
   "source": [
    "preprocessor.named_transformers_['mean_imputer'].named_steps['imputer'].statistics_"
   ]
  },
  {
   "cell_type": "code",
   "execution_count": 14,
   "id": "306acacc",
   "metadata": {},
   "outputs": [
    {
     "data": {
      "text/plain": [
       "70.04995836802665"
      ]
     },
     "execution_count": 14,
     "metadata": {},
     "output_type": "execute_result"
    }
   ],
   "source": [
    "train['LotFrontage'].mean()"
   ]
  },
  {
   "cell_type": "code",
   "execution_count": 15,
   "id": "107b6952",
   "metadata": {},
   "outputs": [
    {
     "data": {
      "text/plain": [
       "array([   0., 1980.])"
      ]
     },
     "execution_count": 15,
     "metadata": {},
     "output_type": "execute_result"
    }
   ],
   "source": [
    "preprocessor.named_transformers_['median_imputer'].named_steps['imputer'].statistics_"
   ]
  },
  {
   "cell_type": "code",
   "execution_count": 16,
   "id": "b0097941",
   "metadata": {},
   "outputs": [
    {
     "data": {
      "text/plain": [
       "array(['Grvl', 'None', 'TA', 'TA', 'No', 'Unf', 'Unf', 'SBrkr', 'Gd'],\n",
       "      dtype=object)"
      ]
     },
     "execution_count": 16,
     "metadata": {},
     "output_type": "execute_result"
    }
   ],
   "source": [
    "preprocessor.named_transformers_['mode_imputer'].named_steps['imputer'].statistics_"
   ]
  },
  {
   "cell_type": "code",
   "execution_count": 17,
   "id": "e2340ad8",
   "metadata": {},
   "outputs": [
    {
     "data": {
      "text/plain": [
       "array(['missing', 'missing', 'missing', 'missing', 'missing', 'missing',\n",
       "       'missing'], dtype=object)"
      ]
     },
     "execution_count": 17,
     "metadata": {},
     "output_type": "execute_result"
    }
   ],
   "source": [
    "preprocessor.named_transformers_['missing_imputer'].named_steps['imputer'].statistics_"
   ]
  },
  {
   "cell_type": "code",
   "execution_count": 18,
   "id": "ed5611b9",
   "metadata": {},
   "outputs": [],
   "source": [
    "X_train_clean = preprocessor.transform(X_train)\n",
    "X_test_clean = preprocessor.transform(X_test)"
   ]
  },
  {
   "cell_type": "code",
   "execution_count": 19,
   "id": "65f14cef",
   "metadata": {},
   "outputs": [
    {
     "data": {
      "text/plain": [
       "array([[65.0, 196.0, 2003.0, ..., 'missing', 'missing', 'missing'],\n",
       "       [80.0, 0.0, 1976.0, ..., 'missing', 'missing', 'missing'],\n",
       "       [68.0, 162.0, 2001.0, ..., 'missing', 'missing', 'missing'],\n",
       "       ...,\n",
       "       [66.0, 0.0, 1941.0, ..., 'missing', 'GdPrv', 'Shed'],\n",
       "       [68.0, 0.0, 1950.0, ..., 'missing', 'missing', 'missing'],\n",
       "       [75.0, 0.0, 1965.0, ..., 'missing', 'missing', 'missing']],\n",
       "      dtype=object)"
      ]
     },
     "execution_count": 19,
     "metadata": {},
     "output_type": "execute_result"
    }
   ],
   "source": [
    "X_train_clean"
   ]
  },
  {
   "cell_type": "code",
   "execution_count": 20,
   "id": "7b68b00b",
   "metadata": {},
   "outputs": [
    {
     "data": {
      "text/plain": [
       "[('mean_imputer',\n",
       "  Pipeline(steps=[('imputer', SimpleImputer())]),\n",
       "  ['LotFrontage']),\n",
       " ('median_imputer',\n",
       "  Pipeline(steps=[('imputer', SimpleImputer(strategy='median'))]),\n",
       "  ['MasVnrArea', 'GarageYrBlt']),\n",
       " ('mode_imputer',\n",
       "  Pipeline(steps=[('imputer', SimpleImputer(strategy='most_frequent'))]),\n",
       "  ['Alley',\n",
       "   'MasVnrType',\n",
       "   'BsmtQual',\n",
       "   'BsmtCond',\n",
       "   'BsmtExposure',\n",
       "   'BsmtFinType1',\n",
       "   'BsmtFinType2',\n",
       "   'Electrical',\n",
       "   'FireplaceQu']),\n",
       " ('missing_imputer',\n",
       "  Pipeline(steps=[('imputer',\n",
       "                   SimpleImputer(fill_value='missing', strategy='constant'))]),\n",
       "  ['GarageType',\n",
       "   'GarageFinish',\n",
       "   'GarageQual',\n",
       "   'GarageCond',\n",
       "   'PoolQC',\n",
       "   'Fence',\n",
       "   'MiscFeature']),\n",
       " ('remainder',\n",
       "  'drop',\n",
       "  [0,\n",
       "   1,\n",
       "   2,\n",
       "   4,\n",
       "   5,\n",
       "   7,\n",
       "   8,\n",
       "   9,\n",
       "   10,\n",
       "   11,\n",
       "   12,\n",
       "   13,\n",
       "   14,\n",
       "   15,\n",
       "   16,\n",
       "   17,\n",
       "   18,\n",
       "   19,\n",
       "   20,\n",
       "   21,\n",
       "   22,\n",
       "   23,\n",
       "   24,\n",
       "   27,\n",
       "   28,\n",
       "   29,\n",
       "   34,\n",
       "   36,\n",
       "   37,\n",
       "   38,\n",
       "   39,\n",
       "   40,\n",
       "   41,\n",
       "   43,\n",
       "   44,\n",
       "   45,\n",
       "   46,\n",
       "   47,\n",
       "   48,\n",
       "   49,\n",
       "   50,\n",
       "   51,\n",
       "   52,\n",
       "   53,\n",
       "   54,\n",
       "   55,\n",
       "   56,\n",
       "   61,\n",
       "   62,\n",
       "   65,\n",
       "   66,\n",
       "   67,\n",
       "   68,\n",
       "   69,\n",
       "   70,\n",
       "   71,\n",
       "   75,\n",
       "   76,\n",
       "   77,\n",
       "   78,\n",
       "   79])]"
      ]
     },
     "execution_count": 20,
     "metadata": {},
     "output_type": "execute_result"
    }
   ],
   "source": [
    "preprocessor.transformers_"
   ]
  },
  {
   "cell_type": "markdown",
   "id": "c823d778",
   "metadata": {},
   "source": [
    "### In Above : remainder, drop index showing because, those are list of columns which are dropped due to contain no missing value. If we don't want to drop, we assign value 'passthrough' to remainder."
   ]
  },
  {
   "cell_type": "code",
   "execution_count": 21,
   "id": "98210439",
   "metadata": {},
   "outputs": [],
   "source": [
    "X_train_clean_miss_var = pd.DataFrame(X_train_clean, columns=num_var_mean + num_var_median + cat_vars_mode + cat_vars_missing)"
   ]
  },
  {
   "cell_type": "code",
   "execution_count": 22,
   "id": "42c5cd6d",
   "metadata": {},
   "outputs": [
    {
     "data": {
      "text/html": [
       "<div>\n",
       "<style scoped>\n",
       "    .dataframe tbody tr th:only-of-type {\n",
       "        vertical-align: middle;\n",
       "    }\n",
       "\n",
       "    .dataframe tbody tr th {\n",
       "        vertical-align: top;\n",
       "    }\n",
       "\n",
       "    .dataframe thead th {\n",
       "        text-align: right;\n",
       "    }\n",
       "</style>\n",
       "<table border=\"1\" class=\"dataframe\">\n",
       "  <thead>\n",
       "    <tr style=\"text-align: right;\">\n",
       "      <th></th>\n",
       "      <th>LotFrontage</th>\n",
       "      <th>MasVnrArea</th>\n",
       "      <th>GarageYrBlt</th>\n",
       "      <th>Alley</th>\n",
       "      <th>MasVnrType</th>\n",
       "      <th>BsmtQual</th>\n",
       "      <th>BsmtCond</th>\n",
       "      <th>BsmtExposure</th>\n",
       "      <th>BsmtFinType1</th>\n",
       "      <th>BsmtFinType2</th>\n",
       "      <th>Electrical</th>\n",
       "      <th>FireplaceQu</th>\n",
       "      <th>GarageType</th>\n",
       "      <th>GarageFinish</th>\n",
       "      <th>GarageQual</th>\n",
       "      <th>GarageCond</th>\n",
       "      <th>PoolQC</th>\n",
       "      <th>Fence</th>\n",
       "      <th>MiscFeature</th>\n",
       "    </tr>\n",
       "  </thead>\n",
       "  <tbody>\n",
       "    <tr>\n",
       "      <th>0</th>\n",
       "      <td>65.000000</td>\n",
       "      <td>196.0</td>\n",
       "      <td>2003.0</td>\n",
       "      <td>Grvl</td>\n",
       "      <td>BrkFace</td>\n",
       "      <td>Gd</td>\n",
       "      <td>TA</td>\n",
       "      <td>No</td>\n",
       "      <td>GLQ</td>\n",
       "      <td>Unf</td>\n",
       "      <td>SBrkr</td>\n",
       "      <td>Gd</td>\n",
       "      <td>Attchd</td>\n",
       "      <td>RFn</td>\n",
       "      <td>TA</td>\n",
       "      <td>TA</td>\n",
       "      <td>missing</td>\n",
       "      <td>missing</td>\n",
       "      <td>missing</td>\n",
       "    </tr>\n",
       "    <tr>\n",
       "      <th>1</th>\n",
       "      <td>80.000000</td>\n",
       "      <td>0.0</td>\n",
       "      <td>1976.0</td>\n",
       "      <td>Grvl</td>\n",
       "      <td>None</td>\n",
       "      <td>Gd</td>\n",
       "      <td>TA</td>\n",
       "      <td>Gd</td>\n",
       "      <td>ALQ</td>\n",
       "      <td>Unf</td>\n",
       "      <td>SBrkr</td>\n",
       "      <td>TA</td>\n",
       "      <td>Attchd</td>\n",
       "      <td>RFn</td>\n",
       "      <td>TA</td>\n",
       "      <td>TA</td>\n",
       "      <td>missing</td>\n",
       "      <td>missing</td>\n",
       "      <td>missing</td>\n",
       "    </tr>\n",
       "    <tr>\n",
       "      <th>2</th>\n",
       "      <td>68.000000</td>\n",
       "      <td>162.0</td>\n",
       "      <td>2001.0</td>\n",
       "      <td>Grvl</td>\n",
       "      <td>BrkFace</td>\n",
       "      <td>Gd</td>\n",
       "      <td>TA</td>\n",
       "      <td>Mn</td>\n",
       "      <td>GLQ</td>\n",
       "      <td>Unf</td>\n",
       "      <td>SBrkr</td>\n",
       "      <td>TA</td>\n",
       "      <td>Attchd</td>\n",
       "      <td>RFn</td>\n",
       "      <td>TA</td>\n",
       "      <td>TA</td>\n",
       "      <td>missing</td>\n",
       "      <td>missing</td>\n",
       "      <td>missing</td>\n",
       "    </tr>\n",
       "    <tr>\n",
       "      <th>3</th>\n",
       "      <td>60.000000</td>\n",
       "      <td>0.0</td>\n",
       "      <td>1998.0</td>\n",
       "      <td>Grvl</td>\n",
       "      <td>None</td>\n",
       "      <td>TA</td>\n",
       "      <td>Gd</td>\n",
       "      <td>No</td>\n",
       "      <td>ALQ</td>\n",
       "      <td>Unf</td>\n",
       "      <td>SBrkr</td>\n",
       "      <td>Gd</td>\n",
       "      <td>Detchd</td>\n",
       "      <td>Unf</td>\n",
       "      <td>TA</td>\n",
       "      <td>TA</td>\n",
       "      <td>missing</td>\n",
       "      <td>missing</td>\n",
       "      <td>missing</td>\n",
       "    </tr>\n",
       "    <tr>\n",
       "      <th>4</th>\n",
       "      <td>84.000000</td>\n",
       "      <td>350.0</td>\n",
       "      <td>2000.0</td>\n",
       "      <td>Grvl</td>\n",
       "      <td>BrkFace</td>\n",
       "      <td>Gd</td>\n",
       "      <td>TA</td>\n",
       "      <td>Av</td>\n",
       "      <td>GLQ</td>\n",
       "      <td>Unf</td>\n",
       "      <td>SBrkr</td>\n",
       "      <td>TA</td>\n",
       "      <td>Attchd</td>\n",
       "      <td>RFn</td>\n",
       "      <td>TA</td>\n",
       "      <td>TA</td>\n",
       "      <td>missing</td>\n",
       "      <td>missing</td>\n",
       "      <td>missing</td>\n",
       "    </tr>\n",
       "    <tr>\n",
       "      <th>5</th>\n",
       "      <td>85.000000</td>\n",
       "      <td>0.0</td>\n",
       "      <td>1993.0</td>\n",
       "      <td>Grvl</td>\n",
       "      <td>None</td>\n",
       "      <td>Gd</td>\n",
       "      <td>TA</td>\n",
       "      <td>No</td>\n",
       "      <td>GLQ</td>\n",
       "      <td>Unf</td>\n",
       "      <td>SBrkr</td>\n",
       "      <td>Gd</td>\n",
       "      <td>Attchd</td>\n",
       "      <td>Unf</td>\n",
       "      <td>TA</td>\n",
       "      <td>TA</td>\n",
       "      <td>missing</td>\n",
       "      <td>MnPrv</td>\n",
       "      <td>Shed</td>\n",
       "    </tr>\n",
       "    <tr>\n",
       "      <th>6</th>\n",
       "      <td>75.000000</td>\n",
       "      <td>186.0</td>\n",
       "      <td>2004.0</td>\n",
       "      <td>Grvl</td>\n",
       "      <td>Stone</td>\n",
       "      <td>Ex</td>\n",
       "      <td>TA</td>\n",
       "      <td>Av</td>\n",
       "      <td>GLQ</td>\n",
       "      <td>Unf</td>\n",
       "      <td>SBrkr</td>\n",
       "      <td>Gd</td>\n",
       "      <td>Attchd</td>\n",
       "      <td>RFn</td>\n",
       "      <td>TA</td>\n",
       "      <td>TA</td>\n",
       "      <td>missing</td>\n",
       "      <td>missing</td>\n",
       "      <td>missing</td>\n",
       "    </tr>\n",
       "    <tr>\n",
       "      <th>7</th>\n",
       "      <td>70.049958</td>\n",
       "      <td>240.0</td>\n",
       "      <td>1973.0</td>\n",
       "      <td>Grvl</td>\n",
       "      <td>Stone</td>\n",
       "      <td>Gd</td>\n",
       "      <td>TA</td>\n",
       "      <td>Mn</td>\n",
       "      <td>ALQ</td>\n",
       "      <td>BLQ</td>\n",
       "      <td>SBrkr</td>\n",
       "      <td>TA</td>\n",
       "      <td>Attchd</td>\n",
       "      <td>RFn</td>\n",
       "      <td>TA</td>\n",
       "      <td>TA</td>\n",
       "      <td>missing</td>\n",
       "      <td>missing</td>\n",
       "      <td>Shed</td>\n",
       "    </tr>\n",
       "    <tr>\n",
       "      <th>8</th>\n",
       "      <td>51.000000</td>\n",
       "      <td>0.0</td>\n",
       "      <td>1931.0</td>\n",
       "      <td>Grvl</td>\n",
       "      <td>None</td>\n",
       "      <td>TA</td>\n",
       "      <td>TA</td>\n",
       "      <td>No</td>\n",
       "      <td>Unf</td>\n",
       "      <td>Unf</td>\n",
       "      <td>FuseF</td>\n",
       "      <td>TA</td>\n",
       "      <td>Detchd</td>\n",
       "      <td>Unf</td>\n",
       "      <td>Fa</td>\n",
       "      <td>TA</td>\n",
       "      <td>missing</td>\n",
       "      <td>missing</td>\n",
       "      <td>missing</td>\n",
       "    </tr>\n",
       "    <tr>\n",
       "      <th>9</th>\n",
       "      <td>50.000000</td>\n",
       "      <td>0.0</td>\n",
       "      <td>1939.0</td>\n",
       "      <td>Grvl</td>\n",
       "      <td>None</td>\n",
       "      <td>TA</td>\n",
       "      <td>TA</td>\n",
       "      <td>No</td>\n",
       "      <td>GLQ</td>\n",
       "      <td>Unf</td>\n",
       "      <td>SBrkr</td>\n",
       "      <td>TA</td>\n",
       "      <td>Attchd</td>\n",
       "      <td>RFn</td>\n",
       "      <td>Gd</td>\n",
       "      <td>TA</td>\n",
       "      <td>missing</td>\n",
       "      <td>missing</td>\n",
       "      <td>missing</td>\n",
       "    </tr>\n",
       "  </tbody>\n",
       "</table>\n",
       "</div>"
      ],
      "text/plain": [
       "  LotFrontage MasVnrArea GarageYrBlt Alley MasVnrType BsmtQual BsmtCond  \\\n",
       "0   65.000000      196.0      2003.0  Grvl    BrkFace       Gd       TA   \n",
       "1   80.000000        0.0      1976.0  Grvl       None       Gd       TA   \n",
       "2   68.000000      162.0      2001.0  Grvl    BrkFace       Gd       TA   \n",
       "3   60.000000        0.0      1998.0  Grvl       None       TA       Gd   \n",
       "4   84.000000      350.0      2000.0  Grvl    BrkFace       Gd       TA   \n",
       "5   85.000000        0.0      1993.0  Grvl       None       Gd       TA   \n",
       "6   75.000000      186.0      2004.0  Grvl      Stone       Ex       TA   \n",
       "7   70.049958      240.0      1973.0  Grvl      Stone       Gd       TA   \n",
       "8   51.000000        0.0      1931.0  Grvl       None       TA       TA   \n",
       "9   50.000000        0.0      1939.0  Grvl       None       TA       TA   \n",
       "\n",
       "  BsmtExposure BsmtFinType1 BsmtFinType2 Electrical FireplaceQu GarageType  \\\n",
       "0           No          GLQ          Unf      SBrkr          Gd     Attchd   \n",
       "1           Gd          ALQ          Unf      SBrkr          TA     Attchd   \n",
       "2           Mn          GLQ          Unf      SBrkr          TA     Attchd   \n",
       "3           No          ALQ          Unf      SBrkr          Gd     Detchd   \n",
       "4           Av          GLQ          Unf      SBrkr          TA     Attchd   \n",
       "5           No          GLQ          Unf      SBrkr          Gd     Attchd   \n",
       "6           Av          GLQ          Unf      SBrkr          Gd     Attchd   \n",
       "7           Mn          ALQ          BLQ      SBrkr          TA     Attchd   \n",
       "8           No          Unf          Unf      FuseF          TA     Detchd   \n",
       "9           No          GLQ          Unf      SBrkr          TA     Attchd   \n",
       "\n",
       "  GarageFinish GarageQual GarageCond   PoolQC    Fence MiscFeature  \n",
       "0          RFn         TA         TA  missing  missing     missing  \n",
       "1          RFn         TA         TA  missing  missing     missing  \n",
       "2          RFn         TA         TA  missing  missing     missing  \n",
       "3          Unf         TA         TA  missing  missing     missing  \n",
       "4          RFn         TA         TA  missing  missing     missing  \n",
       "5          Unf         TA         TA  missing    MnPrv        Shed  \n",
       "6          RFn         TA         TA  missing  missing     missing  \n",
       "7          RFn         TA         TA  missing  missing        Shed  \n",
       "8          Unf         Fa         TA  missing  missing     missing  \n",
       "9          RFn         Gd         TA  missing  missing     missing  "
      ]
     },
     "execution_count": 22,
     "metadata": {},
     "output_type": "execute_result"
    }
   ],
   "source": [
    "X_train_clean_miss_var.head(10)"
   ]
  },
  {
   "cell_type": "code",
   "execution_count": 23,
   "id": "1b9d1c72",
   "metadata": {},
   "outputs": [
    {
     "data": {
      "text/plain": [
       "0"
      ]
     },
     "execution_count": 23,
     "metadata": {},
     "output_type": "execute_result"
    }
   ],
   "source": [
    "X_train_clean_miss_var.isnull().sum().sum()"
   ]
  },
  {
   "cell_type": "code",
   "execution_count": 24,
   "id": "6cda1e4e",
   "metadata": {},
   "outputs": [
    {
     "data": {
      "text/plain": [
       "Grvl    50\n",
       "Pave    41\n",
       "Name: Alley, dtype: int64"
      ]
     },
     "execution_count": 24,
     "metadata": {},
     "output_type": "execute_result"
    }
   ],
   "source": [
    "# before implement pipeline\n",
    "train[\"Alley\"].value_counts()"
   ]
  },
  {
   "cell_type": "code",
   "execution_count": 25,
   "id": "3e473db2",
   "metadata": {},
   "outputs": [
    {
     "data": {
      "text/plain": [
       "Grvl    1419\n",
       "Pave      41\n",
       "Name: Alley, dtype: int64"
      ]
     },
     "execution_count": 25,
     "metadata": {},
     "output_type": "execute_result"
    }
   ],
   "source": [
    "# after implement pipeline\n",
    "X_train_clean_miss_var[\"Alley\"].value_counts()"
   ]
  },
  {
   "cell_type": "code",
   "execution_count": 26,
   "id": "f1df35f6",
   "metadata": {},
   "outputs": [
    {
     "data": {
      "text/plain": [
       "missing    1406\n",
       "Shed         49\n",
       "Othr          2\n",
       "Gar2          2\n",
       "TenC          1\n",
       "Name: MiscFeature, dtype: int64"
      ]
     },
     "execution_count": 26,
     "metadata": {},
     "output_type": "execute_result"
    }
   ],
   "source": [
    "# after implement pipeline\n",
    "X_train_clean_miss_var[\"MiscFeature\"].value_counts()"
   ]
  },
  {
   "cell_type": "markdown",
   "id": "5c00ee7e",
   "metadata": {},
   "source": [
    "# Home Work"
   ]
  },
  {
   "cell_type": "markdown",
   "id": "6c01ad2e",
   "metadata": {},
   "source": [
    "## Create Clean X_train DataFrame with call variables "
   ]
  },
  {
   "cell_type": "code",
   "execution_count": 27,
   "id": "6e65f116",
   "metadata": {},
   "outputs": [],
   "source": [
    "# no missing values variables index\n",
    "remainder_vars_index = [0,\n",
    "   1,\n",
    "   2,\n",
    "   4,\n",
    "   5,\n",
    "   7,\n",
    "   8,\n",
    "   9,\n",
    "   10,\n",
    "   11,\n",
    "   12,\n",
    "   13,\n",
    "   14,\n",
    "   15,\n",
    "   16,\n",
    "   17,\n",
    "   18,\n",
    "   19,\n",
    "   20,\n",
    "   21,\n",
    "   22,\n",
    "   23,\n",
    "   24,\n",
    "   27,\n",
    "   28,\n",
    "   29,\n",
    "   34,\n",
    "   36,\n",
    "   37,\n",
    "   38,\n",
    "   39,\n",
    "   40,\n",
    "   41,\n",
    "   43,\n",
    "   44,\n",
    "   45,\n",
    "   46,\n",
    "   47,\n",
    "   48,\n",
    "   49,\n",
    "   50,\n",
    "   51,\n",
    "   52,\n",
    "   53,\n",
    "   54,\n",
    "   55,\n",
    "   56,\n",
    "   61,\n",
    "   62,\n",
    "   65,\n",
    "   66,\n",
    "   67,\n",
    "   68,\n",
    "   69,\n",
    "   70,\n",
    "   71,\n",
    "   75,\n",
    "   76,\n",
    "   77,\n",
    "   78,\n",
    "   79]"
   ]
  },
  {
   "cell_type": "code",
   "execution_count": 28,
   "id": "2a337e09",
   "metadata": {},
   "outputs": [
    {
     "data": {
      "text/plain": [
       "['Id',\n",
       " 'MSSubClass',\n",
       " 'MSZoning',\n",
       " 'LotArea',\n",
       " 'Street',\n",
       " 'LotShape',\n",
       " 'LandContour',\n",
       " 'Utilities',\n",
       " 'LotConfig',\n",
       " 'LandSlope',\n",
       " 'Neighborhood',\n",
       " 'Condition1',\n",
       " 'Condition2',\n",
       " 'BldgType',\n",
       " 'HouseStyle',\n",
       " 'OverallQual',\n",
       " 'OverallCond',\n",
       " 'YearBuilt',\n",
       " 'YearRemodAdd',\n",
       " 'RoofStyle',\n",
       " 'RoofMatl',\n",
       " 'Exterior1st',\n",
       " 'Exterior2nd',\n",
       " 'ExterQual',\n",
       " 'ExterCond',\n",
       " 'Foundation',\n",
       " 'BsmtFinSF1',\n",
       " 'BsmtFinSF2',\n",
       " 'BsmtUnfSF',\n",
       " 'TotalBsmtSF',\n",
       " 'Heating',\n",
       " 'HeatingQC',\n",
       " 'CentralAir',\n",
       " '1stFlrSF',\n",
       " '2ndFlrSF',\n",
       " 'LowQualFinSF',\n",
       " 'GrLivArea',\n",
       " 'BsmtFullBath',\n",
       " 'BsmtHalfBath',\n",
       " 'FullBath',\n",
       " 'HalfBath',\n",
       " 'BedroomAbvGr',\n",
       " 'KitchenAbvGr',\n",
       " 'KitchenQual',\n",
       " 'TotRmsAbvGrd',\n",
       " 'Functional',\n",
       " 'Fireplaces',\n",
       " 'GarageCars',\n",
       " 'GarageArea',\n",
       " 'PavedDrive',\n",
       " 'WoodDeckSF',\n",
       " 'OpenPorchSF',\n",
       " 'EnclosedPorch',\n",
       " '3SsnPorch',\n",
       " 'ScreenPorch',\n",
       " 'PoolArea',\n",
       " 'MiscVal',\n",
       " 'MoSold',\n",
       " 'YrSold',\n",
       " 'SaleType',\n",
       " 'SaleCondition']"
      ]
     },
     "execution_count": 28,
     "metadata": {},
     "output_type": "execute_result"
    }
   ],
   "source": [
    "# get no missing values variables name using there index\n",
    "remainder_vars = [isnull_sum.keys()[var_index] for var_index in remainder_vars_index]\n",
    "remainder_vars"
   ]
  },
  {
   "cell_type": "code",
   "execution_count": 29,
   "id": "7e76ff0c",
   "metadata": {},
   "outputs": [
    {
     "data": {
      "text/plain": [
       "61"
      ]
     },
     "execution_count": 29,
     "metadata": {},
     "output_type": "execute_result"
    }
   ],
   "source": [
    "len(remainder_vars)"
   ]
  },
  {
   "cell_type": "code",
   "execution_count": 30,
   "id": "b7951eb9",
   "metadata": {},
   "outputs": [],
   "source": [
    "# concatinate X_train_clean_miss_var df and remainder_vars\n",
    "X_train =  pd.concat([X_train_clean_miss_var,train[remainder_vars]], axis=1)"
   ]
  },
  {
   "cell_type": "code",
   "execution_count": 31,
   "id": "94c0010a",
   "metadata": {},
   "outputs": [
    {
     "data": {
      "text/plain": [
       "(1460, 80)"
      ]
     },
     "execution_count": 31,
     "metadata": {},
     "output_type": "execute_result"
    }
   ],
   "source": [
    "X_train.shape"
   ]
  },
  {
   "cell_type": "code",
   "execution_count": 32,
   "id": "23c258f1",
   "metadata": {},
   "outputs": [
    {
     "data": {
      "text/plain": [
       "0"
      ]
     },
     "execution_count": 32,
     "metadata": {},
     "output_type": "execute_result"
    }
   ],
   "source": [
    "X_train.isnull().sum().sum()"
   ]
  },
  {
   "cell_type": "markdown",
   "id": "7df47ddc",
   "metadata": {},
   "source": [
    "## Test Dataframe"
   ]
  },
  {
   "cell_type": "code",
   "execution_count": 33,
   "id": "8654b7ca",
   "metadata": {},
   "outputs": [
    {
     "data": {
      "text/plain": [
       "(1459, 19)"
      ]
     },
     "execution_count": 33,
     "metadata": {},
     "output_type": "execute_result"
    }
   ],
   "source": [
    "# Create test DataFrame with missing value imputed variables\n",
    "X_test_clean_miss_var = pd.DataFrame(X_test_clean, columns=num_var_mean + num_var_median + cat_vars_mode + cat_vars_missing)\n",
    "X_test_clean_miss_var.shape"
   ]
  },
  {
   "cell_type": "code",
   "execution_count": 34,
   "id": "d10de530",
   "metadata": {},
   "outputs": [
    {
     "data": {
      "text/plain": [
       "0"
      ]
     },
     "execution_count": 34,
     "metadata": {},
     "output_type": "execute_result"
    }
   ],
   "source": [
    "X_test_clean_miss_var.isnull().sum().sum()"
   ]
  },
  {
   "cell_type": "code",
   "execution_count": 35,
   "id": "89158186",
   "metadata": {},
   "outputs": [
    {
     "data": {
      "text/plain": [
       "(1459, 80)"
      ]
     },
     "execution_count": 35,
     "metadata": {},
     "output_type": "execute_result"
    }
   ],
   "source": [
    "# concatinate X_test_clean_miss_var df and remainder_vars\n",
    "X_test =  pd.concat([X_test_clean_miss_var, test[remainder_vars]], axis=1)\n",
    "X_test.shape"
   ]
  },
  {
   "cell_type": "code",
   "execution_count": 36,
   "id": "42e42dcb",
   "metadata": {},
   "outputs": [
    {
     "data": {
      "text/plain": [
       "22"
      ]
     },
     "execution_count": 36,
     "metadata": {},
     "output_type": "execute_result"
    }
   ],
   "source": [
    "X_test.isnull().sum().sum()"
   ]
  },
  {
   "cell_type": "code",
   "execution_count": 37,
   "id": "c73c6f29",
   "metadata": {},
   "outputs": [
    {
     "data": {
      "text/plain": [
       "LotFrontage      0\n",
       "MasVnrArea       0\n",
       "GarageYrBlt      0\n",
       "Alley            0\n",
       "MasVnrType       0\n",
       "                ..\n",
       "MiscVal          0\n",
       "MoSold           0\n",
       "YrSold           0\n",
       "SaleType         1\n",
       "SaleCondition    0\n",
       "Length: 80, dtype: int64"
      ]
     },
     "execution_count": 37,
     "metadata": {},
     "output_type": "execute_result"
    }
   ],
   "source": [
    "isnull_sum_test = X_test.isnull().sum()\n",
    "isnull_sum_test"
   ]
  },
  {
   "cell_type": "code",
   "execution_count": 38,
   "id": "21e751d2",
   "metadata": {},
   "outputs": [
    {
     "data": {
      "text/plain": [
       "['BsmtFinSF1',\n",
       " 'BsmtFinSF2',\n",
       " 'BsmtUnfSF',\n",
       " 'TotalBsmtSF',\n",
       " 'BsmtFullBath',\n",
       " 'BsmtHalfBath',\n",
       " 'GarageCars',\n",
       " 'GarageArea']"
      ]
     },
     "execution_count": 38,
     "metadata": {},
     "output_type": "execute_result"
    }
   ],
   "source": [
    "# finding the numerical variable which have mising value\n",
    "num_vars_test = X_test.select_dtypes(include=[\"int64\", \"float64\"]).columns\n",
    "num_vars_miss_test = [var for var in num_vars_test if isnull_sum_test[var]>0]\n",
    "num_vars_miss_test"
   ]
  },
  {
   "cell_type": "code",
   "execution_count": 39,
   "id": "423b39a8",
   "metadata": {},
   "outputs": [
    {
     "data": {
      "text/plain": [
       "['MSZoning',\n",
       " 'Utilities',\n",
       " 'Exterior1st',\n",
       " 'Exterior2nd',\n",
       " 'KitchenQual',\n",
       " 'Functional',\n",
       " 'SaleType']"
      ]
     },
     "execution_count": 39,
     "metadata": {},
     "output_type": "execute_result"
    }
   ],
   "source": [
    "# finding the categorical variable which have mising value\n",
    "cat_vars_test = X_test.select_dtypes(include=[\"O\"]).columns\n",
    "cat_vars_miss_test = [var for var in cat_vars_test if isnull_sum_test[var]>0]\n",
    "cat_vars_miss_test"
   ]
  },
  {
   "cell_type": "code",
   "execution_count": 40,
   "id": "aaf28544",
   "metadata": {},
   "outputs": [],
   "source": [
    "num_var_mean_test = ['BsmtFinSF1', 'BsmtFinSF2', 'BsmtUnfSF', 'TotalBsmtSF', 'BsmtFullBath', 'BsmtHalfBath']\n",
    "num_var_median_test = ['GarageCars', 'GarageArea']\n",
    "cat_vars_mode_test = ['MSZoning',\n",
    " 'Utilities',\n",
    " 'Exterior1st',\n",
    " 'Exterior2nd']\n",
    "cat_vars_missing_test= ['KitchenQual',\n",
    " 'Functional',\n",
    " 'SaleType']"
   ]
  },
  {
   "cell_type": "code",
   "execution_count": 41,
   "id": "f3ec5f5a",
   "metadata": {},
   "outputs": [],
   "source": [
    "num_var_mean_test_imputer = Pipeline(steps=[(\"imputer\", SimpleImputer(strategy=\"mean\"))])\n",
    "num_var_median_test_imputer = Pipeline(steps=[(\"imputer\", SimpleImputer(strategy=\"median\"))])\n",
    "cat_vars_mode_test_imputer = Pipeline(steps=[(\"imputer\", SimpleImputer(strategy=\"most_frequent\"))])\n",
    "cat_vars_missing_test_imputer = Pipeline(steps=[(\"imputer\", SimpleImputer(strategy=\"constant\", fill_value=\"missing\"))])"
   ]
  },
  {
   "cell_type": "code",
   "execution_count": 42,
   "id": "fdebe31f",
   "metadata": {},
   "outputs": [],
   "source": [
    "preprocessor_test = ColumnTransformer(transformers=[(\"mean_imputer\", num_var_mean_test_imputer, num_var_mean_test),\n",
    "                                (\"median_imputer\", num_var_median_test_imputer, num_var_median_test),\n",
    "                               (\"mode_imputer\", cat_vars_mode_test_imputer, cat_vars_mode_test),\n",
    "                               (\"missing_imputer\", cat_vars_missing_test_imputer, cat_vars_missing_test)])"
   ]
  },
  {
   "cell_type": "code",
   "execution_count": 43,
   "id": "2172c8eb",
   "metadata": {},
   "outputs": [
    {
     "data": {
      "text/plain": [
       "ColumnTransformer(transformers=[('mean_imputer',\n",
       "                                 Pipeline(steps=[('imputer', SimpleImputer())]),\n",
       "                                 ['BsmtFinSF1', 'BsmtFinSF2', 'BsmtUnfSF',\n",
       "                                  'TotalBsmtSF', 'BsmtFullBath',\n",
       "                                  'BsmtHalfBath']),\n",
       "                                ('median_imputer',\n",
       "                                 Pipeline(steps=[('imputer',\n",
       "                                                  SimpleImputer(strategy='median'))]),\n",
       "                                 ['GarageCars', 'GarageArea']),\n",
       "                                ('mode_imputer',\n",
       "                                 Pipeline(steps=[('imputer',\n",
       "                                                  SimpleImputer(strategy='most_frequent'))]),\n",
       "                                 ['MSZoning', 'Utilities', 'Exterior1st',\n",
       "                                  'Exterior2nd']),\n",
       "                                ('missing_imputer',\n",
       "                                 Pipeline(steps=[('imputer',\n",
       "                                                  SimpleImputer(fill_value='missing',\n",
       "                                                                strategy='constant'))]),\n",
       "                                 ['KitchenQual', 'Functional', 'SaleType'])])"
      ]
     },
     "execution_count": 43,
     "metadata": {},
     "output_type": "execute_result"
    }
   ],
   "source": [
    "preprocessor_test.fit(X_test)"
   ]
  },
  {
   "cell_type": "code",
   "execution_count": 44,
   "id": "3e05c224",
   "metadata": {},
   "outputs": [
    {
     "data": {
      "text/plain": [
       "<bound method ColumnTransformer.transform of ColumnTransformer(transformers=[('mean_imputer',\n",
       "                                 Pipeline(steps=[('imputer', SimpleImputer())]),\n",
       "                                 ['BsmtFinSF1', 'BsmtFinSF2', 'BsmtUnfSF',\n",
       "                                  'TotalBsmtSF', 'BsmtFullBath',\n",
       "                                  'BsmtHalfBath']),\n",
       "                                ('median_imputer',\n",
       "                                 Pipeline(steps=[('imputer',\n",
       "                                                  SimpleImputer(strategy='median'))]),\n",
       "                                 ['GarageCars', 'GarageArea']),\n",
       "                                ('mode_imputer',\n",
       "                                 Pipeline(steps=[('imputer',\n",
       "                                                  SimpleImputer(strategy='most_frequent'))]),\n",
       "                                 ['MSZoning', 'Utilities', 'Exterior1st',\n",
       "                                  'Exterior2nd']),\n",
       "                                ('missing_imputer',\n",
       "                                 Pipeline(steps=[('imputer',\n",
       "                                                  SimpleImputer(fill_value='missing',\n",
       "                                                                strategy='constant'))]),\n",
       "                                 ['KitchenQual', 'Functional', 'SaleType'])])>"
      ]
     },
     "execution_count": 44,
     "metadata": {},
     "output_type": "execute_result"
    }
   ],
   "source": [
    "preprocessor_test.transform"
   ]
  },
  {
   "cell_type": "code",
   "execution_count": 45,
   "id": "7a5afb6e",
   "metadata": {},
   "outputs": [
    {
     "data": {
      "text/plain": [
       "array([4.39203704e+02, 5.26193416e+01, 5.54294925e+02, 1.04611797e+03,\n",
       "       4.34454358e-01, 6.52024708e-02])"
      ]
     },
     "execution_count": 45,
     "metadata": {},
     "output_type": "execute_result"
    }
   ],
   "source": [
    "preprocessor_test.named_transformers_[\"mean_imputer\"].named_steps[\"imputer\"].statistics_"
   ]
  },
  {
   "cell_type": "code",
   "execution_count": 46,
   "id": "cf21307c",
   "metadata": {},
   "outputs": [
    {
     "data": {
      "text/plain": [
       "439.2037037037037"
      ]
     },
     "execution_count": 46,
     "metadata": {},
     "output_type": "execute_result"
    }
   ],
   "source": [
    "test[\"BsmtFinSF1\"].mean()"
   ]
  },
  {
   "cell_type": "code",
   "execution_count": 47,
   "id": "950507d2",
   "metadata": {},
   "outputs": [
    {
     "data": {
      "text/plain": [
       "array(['RL', 'AllPub', 'VinylSd', 'VinylSd'], dtype=object)"
      ]
     },
     "execution_count": 47,
     "metadata": {},
     "output_type": "execute_result"
    }
   ],
   "source": [
    "preprocessor_test.named_transformers_[\"mode_imputer\"].named_steps[\"imputer\"].statistics_"
   ]
  },
  {
   "cell_type": "code",
   "execution_count": 48,
   "id": "f5aa8d95",
   "metadata": {},
   "outputs": [],
   "source": [
    "X_test_clean = preprocessor_test.transform(X_test)"
   ]
  },
  {
   "cell_type": "code",
   "execution_count": 49,
   "id": "2c9d0148",
   "metadata": {},
   "outputs": [
    {
     "data": {
      "text/plain": [
       "array([[468.0, 144.0, 270.0, ..., 'TA', 'Typ', 'WD'],\n",
       "       [923.0, 0.0, 406.0, ..., 'Gd', 'Typ', 'WD'],\n",
       "       [791.0, 0.0, 137.0, ..., 'TA', 'Typ', 'WD'],\n",
       "       ...,\n",
       "       [1224.0, 0.0, 0.0, ..., 'TA', 'Typ', 'WD'],\n",
       "       [337.0, 0.0, 575.0, ..., 'TA', 'Typ', 'WD'],\n",
       "       [758.0, 0.0, 238.0, ..., 'TA', 'Typ', 'WD']], dtype=object)"
      ]
     },
     "execution_count": 49,
     "metadata": {},
     "output_type": "execute_result"
    }
   ],
   "source": [
    "X_test_clean"
   ]
  },
  {
   "cell_type": "code",
   "execution_count": 50,
   "id": "c6d82a05",
   "metadata": {},
   "outputs": [
    {
     "data": {
      "text/plain": [
       "[('mean_imputer',\n",
       "  Pipeline(steps=[('imputer', SimpleImputer())]),\n",
       "  ['BsmtFinSF1',\n",
       "   'BsmtFinSF2',\n",
       "   'BsmtUnfSF',\n",
       "   'TotalBsmtSF',\n",
       "   'BsmtFullBath',\n",
       "   'BsmtHalfBath']),\n",
       " ('median_imputer',\n",
       "  Pipeline(steps=[('imputer', SimpleImputer(strategy='median'))]),\n",
       "  ['GarageCars', 'GarageArea']),\n",
       " ('mode_imputer',\n",
       "  Pipeline(steps=[('imputer', SimpleImputer(strategy='most_frequent'))]),\n",
       "  ['MSZoning', 'Utilities', 'Exterior1st', 'Exterior2nd']),\n",
       " ('missing_imputer',\n",
       "  Pipeline(steps=[('imputer',\n",
       "                   SimpleImputer(fill_value='missing', strategy='constant'))]),\n",
       "  ['KitchenQual', 'Functional', 'SaleType']),\n",
       " ('remainder',\n",
       "  'drop',\n",
       "  [0,\n",
       "   1,\n",
       "   2,\n",
       "   3,\n",
       "   4,\n",
       "   5,\n",
       "   6,\n",
       "   7,\n",
       "   8,\n",
       "   9,\n",
       "   10,\n",
       "   11,\n",
       "   12,\n",
       "   13,\n",
       "   14,\n",
       "   15,\n",
       "   16,\n",
       "   17,\n",
       "   18,\n",
       "   19,\n",
       "   20,\n",
       "   22,\n",
       "   23,\n",
       "   24,\n",
       "   25,\n",
       "   27,\n",
       "   28,\n",
       "   29,\n",
       "   30,\n",
       "   31,\n",
       "   32,\n",
       "   33,\n",
       "   34,\n",
       "   35,\n",
       "   36,\n",
       "   37,\n",
       "   38,\n",
       "   39,\n",
       "   42,\n",
       "   43,\n",
       "   44,\n",
       "   49,\n",
       "   50,\n",
       "   51,\n",
       "   52,\n",
       "   53,\n",
       "   54,\n",
       "   55,\n",
       "   58,\n",
       "   59,\n",
       "   60,\n",
       "   61,\n",
       "   63,\n",
       "   65,\n",
       "   68,\n",
       "   69,\n",
       "   70,\n",
       "   71,\n",
       "   72,\n",
       "   73,\n",
       "   74,\n",
       "   75,\n",
       "   76,\n",
       "   77,\n",
       "   79])]"
      ]
     },
     "execution_count": 50,
     "metadata": {},
     "output_type": "execute_result"
    }
   ],
   "source": [
    "preprocessor_test.transformers_"
   ]
  },
  {
   "cell_type": "code",
   "execution_count": 51,
   "id": "afb698e3",
   "metadata": {},
   "outputs": [],
   "source": [
    "X_test_clean_miss_var = pd.DataFrame(X_test_clean, columns = num_var_mean_test + num_var_median_test + cat_vars_mode_test + cat_vars_missing_test)"
   ]
  },
  {
   "cell_type": "code",
   "execution_count": 52,
   "id": "1d1ae7fb",
   "metadata": {},
   "outputs": [
    {
     "data": {
      "text/html": [
       "<div>\n",
       "<style scoped>\n",
       "    .dataframe tbody tr th:only-of-type {\n",
       "        vertical-align: middle;\n",
       "    }\n",
       "\n",
       "    .dataframe tbody tr th {\n",
       "        vertical-align: top;\n",
       "    }\n",
       "\n",
       "    .dataframe thead th {\n",
       "        text-align: right;\n",
       "    }\n",
       "</style>\n",
       "<table border=\"1\" class=\"dataframe\">\n",
       "  <thead>\n",
       "    <tr style=\"text-align: right;\">\n",
       "      <th></th>\n",
       "      <th>BsmtFinSF1</th>\n",
       "      <th>BsmtFinSF2</th>\n",
       "      <th>BsmtUnfSF</th>\n",
       "      <th>TotalBsmtSF</th>\n",
       "      <th>BsmtFullBath</th>\n",
       "      <th>BsmtHalfBath</th>\n",
       "      <th>GarageCars</th>\n",
       "      <th>GarageArea</th>\n",
       "      <th>MSZoning</th>\n",
       "      <th>Utilities</th>\n",
       "      <th>Exterior1st</th>\n",
       "      <th>Exterior2nd</th>\n",
       "      <th>KitchenQual</th>\n",
       "      <th>Functional</th>\n",
       "      <th>SaleType</th>\n",
       "    </tr>\n",
       "  </thead>\n",
       "  <tbody>\n",
       "    <tr>\n",
       "      <th>0</th>\n",
       "      <td>468.0</td>\n",
       "      <td>144.0</td>\n",
       "      <td>270.0</td>\n",
       "      <td>882.0</td>\n",
       "      <td>0.0</td>\n",
       "      <td>0.0</td>\n",
       "      <td>1.0</td>\n",
       "      <td>730.0</td>\n",
       "      <td>RH</td>\n",
       "      <td>AllPub</td>\n",
       "      <td>VinylSd</td>\n",
       "      <td>VinylSd</td>\n",
       "      <td>TA</td>\n",
       "      <td>Typ</td>\n",
       "      <td>WD</td>\n",
       "    </tr>\n",
       "    <tr>\n",
       "      <th>1</th>\n",
       "      <td>923.0</td>\n",
       "      <td>0.0</td>\n",
       "      <td>406.0</td>\n",
       "      <td>1329.0</td>\n",
       "      <td>0.0</td>\n",
       "      <td>0.0</td>\n",
       "      <td>1.0</td>\n",
       "      <td>312.0</td>\n",
       "      <td>RL</td>\n",
       "      <td>AllPub</td>\n",
       "      <td>Wd Sdng</td>\n",
       "      <td>Wd Sdng</td>\n",
       "      <td>Gd</td>\n",
       "      <td>Typ</td>\n",
       "      <td>WD</td>\n",
       "    </tr>\n",
       "    <tr>\n",
       "      <th>2</th>\n",
       "      <td>791.0</td>\n",
       "      <td>0.0</td>\n",
       "      <td>137.0</td>\n",
       "      <td>928.0</td>\n",
       "      <td>0.0</td>\n",
       "      <td>0.0</td>\n",
       "      <td>2.0</td>\n",
       "      <td>482.0</td>\n",
       "      <td>RL</td>\n",
       "      <td>AllPub</td>\n",
       "      <td>VinylSd</td>\n",
       "      <td>VinylSd</td>\n",
       "      <td>TA</td>\n",
       "      <td>Typ</td>\n",
       "      <td>WD</td>\n",
       "    </tr>\n",
       "    <tr>\n",
       "      <th>3</th>\n",
       "      <td>602.0</td>\n",
       "      <td>0.0</td>\n",
       "      <td>324.0</td>\n",
       "      <td>926.0</td>\n",
       "      <td>0.0</td>\n",
       "      <td>0.0</td>\n",
       "      <td>2.0</td>\n",
       "      <td>470.0</td>\n",
       "      <td>RL</td>\n",
       "      <td>AllPub</td>\n",
       "      <td>VinylSd</td>\n",
       "      <td>VinylSd</td>\n",
       "      <td>Gd</td>\n",
       "      <td>Typ</td>\n",
       "      <td>WD</td>\n",
       "    </tr>\n",
       "    <tr>\n",
       "      <th>4</th>\n",
       "      <td>263.0</td>\n",
       "      <td>0.0</td>\n",
       "      <td>1017.0</td>\n",
       "      <td>1280.0</td>\n",
       "      <td>0.0</td>\n",
       "      <td>0.0</td>\n",
       "      <td>2.0</td>\n",
       "      <td>506.0</td>\n",
       "      <td>RL</td>\n",
       "      <td>AllPub</td>\n",
       "      <td>HdBoard</td>\n",
       "      <td>HdBoard</td>\n",
       "      <td>Gd</td>\n",
       "      <td>Typ</td>\n",
       "      <td>WD</td>\n",
       "    </tr>\n",
       "  </tbody>\n",
       "</table>\n",
       "</div>"
      ],
      "text/plain": [
       "  BsmtFinSF1 BsmtFinSF2 BsmtUnfSF TotalBsmtSF BsmtFullBath BsmtHalfBath  \\\n",
       "0      468.0      144.0     270.0       882.0          0.0          0.0   \n",
       "1      923.0        0.0     406.0      1329.0          0.0          0.0   \n",
       "2      791.0        0.0     137.0       928.0          0.0          0.0   \n",
       "3      602.0        0.0     324.0       926.0          0.0          0.0   \n",
       "4      263.0        0.0    1017.0      1280.0          0.0          0.0   \n",
       "\n",
       "  GarageCars GarageArea MSZoning Utilities Exterior1st Exterior2nd  \\\n",
       "0        1.0      730.0       RH    AllPub     VinylSd     VinylSd   \n",
       "1        1.0      312.0       RL    AllPub     Wd Sdng     Wd Sdng   \n",
       "2        2.0      482.0       RL    AllPub     VinylSd     VinylSd   \n",
       "3        2.0      470.0       RL    AllPub     VinylSd     VinylSd   \n",
       "4        2.0      506.0       RL    AllPub     HdBoard     HdBoard   \n",
       "\n",
       "  KitchenQual Functional SaleType  \n",
       "0          TA        Typ       WD  \n",
       "1          Gd        Typ       WD  \n",
       "2          TA        Typ       WD  \n",
       "3          Gd        Typ       WD  \n",
       "4          Gd        Typ       WD  "
      ]
     },
     "execution_count": 52,
     "metadata": {},
     "output_type": "execute_result"
    }
   ],
   "source": [
    "X_test_clean_miss_var.head()"
   ]
  },
  {
   "cell_type": "code",
   "execution_count": 53,
   "id": "69d27564",
   "metadata": {},
   "outputs": [
    {
     "data": {
      "text/html": [
       "<div>\n",
       "<style scoped>\n",
       "    .dataframe tbody tr th:only-of-type {\n",
       "        vertical-align: middle;\n",
       "    }\n",
       "\n",
       "    .dataframe tbody tr th {\n",
       "        vertical-align: top;\n",
       "    }\n",
       "\n",
       "    .dataframe thead th {\n",
       "        text-align: right;\n",
       "    }\n",
       "</style>\n",
       "<table border=\"1\" class=\"dataframe\">\n",
       "  <thead>\n",
       "    <tr style=\"text-align: right;\">\n",
       "      <th></th>\n",
       "      <th>BsmtFinSF1</th>\n",
       "      <th>BsmtFinSF2</th>\n",
       "      <th>BsmtUnfSF</th>\n",
       "      <th>TotalBsmtSF</th>\n",
       "      <th>BsmtFullBath</th>\n",
       "      <th>BsmtHalfBath</th>\n",
       "      <th>GarageCars</th>\n",
       "      <th>GarageArea</th>\n",
       "      <th>MSZoning</th>\n",
       "      <th>Utilities</th>\n",
       "      <th>Exterior1st</th>\n",
       "      <th>Exterior2nd</th>\n",
       "      <th>KitchenQual</th>\n",
       "      <th>Functional</th>\n",
       "      <th>SaleType</th>\n",
       "    </tr>\n",
       "  </thead>\n",
       "  <tbody>\n",
       "    <tr>\n",
       "      <th>476</th>\n",
       "      <td>138.0</td>\n",
       "      <td>0.0</td>\n",
       "      <td>778.0</td>\n",
       "      <td>916.0</td>\n",
       "      <td>0.0</td>\n",
       "      <td>0.0</td>\n",
       "      <td>2.0</td>\n",
       "      <td>386.0</td>\n",
       "      <td>RL</td>\n",
       "      <td>AllPub</td>\n",
       "      <td>HdBoard</td>\n",
       "      <td>HdBoard</td>\n",
       "      <td>TA</td>\n",
       "      <td>Typ</td>\n",
       "      <td>WD</td>\n",
       "    </tr>\n",
       "    <tr>\n",
       "      <th>1313</th>\n",
       "      <td>276.0</td>\n",
       "      <td>0.0</td>\n",
       "      <td>936.0</td>\n",
       "      <td>1212.0</td>\n",
       "      <td>1.0</td>\n",
       "      <td>0.0</td>\n",
       "      <td>1.0</td>\n",
       "      <td>240.0</td>\n",
       "      <td>RM</td>\n",
       "      <td>AllPub</td>\n",
       "      <td>MetalSd</td>\n",
       "      <td>MetalSd</td>\n",
       "      <td>TA</td>\n",
       "      <td>Typ</td>\n",
       "      <td>WD</td>\n",
       "    </tr>\n",
       "    <tr>\n",
       "      <th>960</th>\n",
       "      <td>595.0</td>\n",
       "      <td>354.0</td>\n",
       "      <td>156.0</td>\n",
       "      <td>1105.0</td>\n",
       "      <td>1.0</td>\n",
       "      <td>0.0</td>\n",
       "      <td>1.0</td>\n",
       "      <td>280.0</td>\n",
       "      <td>RL</td>\n",
       "      <td>AllPub</td>\n",
       "      <td>VinylSd</td>\n",
       "      <td>VinylSd</td>\n",
       "      <td>TA</td>\n",
       "      <td>Min1</td>\n",
       "      <td>WD</td>\n",
       "    </tr>\n",
       "    <tr>\n",
       "      <th>246</th>\n",
       "      <td>0.0</td>\n",
       "      <td>0.0</td>\n",
       "      <td>1436.0</td>\n",
       "      <td>1436.0</td>\n",
       "      <td>0.0</td>\n",
       "      <td>0.0</td>\n",
       "      <td>2.0</td>\n",
       "      <td>529.0</td>\n",
       "      <td>FV</td>\n",
       "      <td>AllPub</td>\n",
       "      <td>VinylSd</td>\n",
       "      <td>VinylSd</td>\n",
       "      <td>Gd</td>\n",
       "      <td>Typ</td>\n",
       "      <td>New</td>\n",
       "    </tr>\n",
       "    <tr>\n",
       "      <th>1120</th>\n",
       "      <td>967.0</td>\n",
       "      <td>0.0</td>\n",
       "      <td>106.0</td>\n",
       "      <td>1073.0</td>\n",
       "      <td>1.0</td>\n",
       "      <td>0.0</td>\n",
       "      <td>2.0</td>\n",
       "      <td>720.0</td>\n",
       "      <td>C (all)</td>\n",
       "      <td>AllPub</td>\n",
       "      <td>MetalSd</td>\n",
       "      <td>MetalSd</td>\n",
       "      <td>TA</td>\n",
       "      <td>Typ</td>\n",
       "      <td>WD</td>\n",
       "    </tr>\n",
       "    <tr>\n",
       "      <th>1015</th>\n",
       "      <td>485.0</td>\n",
       "      <td>0.0</td>\n",
       "      <td>187.0</td>\n",
       "      <td>672.0</td>\n",
       "      <td>1.0</td>\n",
       "      <td>0.0</td>\n",
       "      <td>1.0</td>\n",
       "      <td>240.0</td>\n",
       "      <td>RL</td>\n",
       "      <td>AllPub</td>\n",
       "      <td>Plywood</td>\n",
       "      <td>Plywood</td>\n",
       "      <td>TA</td>\n",
       "      <td>Typ</td>\n",
       "      <td>WD</td>\n",
       "    </tr>\n",
       "    <tr>\n",
       "      <th>510</th>\n",
       "      <td>1082.0</td>\n",
       "      <td>0.0</td>\n",
       "      <td>538.0</td>\n",
       "      <td>1620.0</td>\n",
       "      <td>1.0</td>\n",
       "      <td>0.0</td>\n",
       "      <td>4.0</td>\n",
       "      <td>1150.0</td>\n",
       "      <td>RL</td>\n",
       "      <td>AllPub</td>\n",
       "      <td>CemntBd</td>\n",
       "      <td>CmentBd</td>\n",
       "      <td>Ex</td>\n",
       "      <td>Typ</td>\n",
       "      <td>WD</td>\n",
       "    </tr>\n",
       "    <tr>\n",
       "      <th>277</th>\n",
       "      <td>601.0</td>\n",
       "      <td>216.0</td>\n",
       "      <td>158.0</td>\n",
       "      <td>975.0</td>\n",
       "      <td>0.0</td>\n",
       "      <td>1.0</td>\n",
       "      <td>2.0</td>\n",
       "      <td>524.0</td>\n",
       "      <td>RL</td>\n",
       "      <td>AllPub</td>\n",
       "      <td>VinylSd</td>\n",
       "      <td>VinylSd</td>\n",
       "      <td>Gd</td>\n",
       "      <td>Typ</td>\n",
       "      <td>WD</td>\n",
       "    </tr>\n",
       "    <tr>\n",
       "      <th>1373</th>\n",
       "      <td>0.0</td>\n",
       "      <td>0.0</td>\n",
       "      <td>945.0</td>\n",
       "      <td>945.0</td>\n",
       "      <td>0.0</td>\n",
       "      <td>0.0</td>\n",
       "      <td>2.0</td>\n",
       "      <td>638.0</td>\n",
       "      <td>RL</td>\n",
       "      <td>AllPub</td>\n",
       "      <td>VinylSd</td>\n",
       "      <td>VinylSd</td>\n",
       "      <td>Gd</td>\n",
       "      <td>Typ</td>\n",
       "      <td>New</td>\n",
       "    </tr>\n",
       "    <tr>\n",
       "      <th>918</th>\n",
       "      <td>915.0</td>\n",
       "      <td>0.0</td>\n",
       "      <td>93.0</td>\n",
       "      <td>1008.0</td>\n",
       "      <td>1.0</td>\n",
       "      <td>0.0</td>\n",
       "      <td>2.0</td>\n",
       "      <td>570.0</td>\n",
       "      <td>RL</td>\n",
       "      <td>AllPub</td>\n",
       "      <td>VinylSd</td>\n",
       "      <td>VinylSd</td>\n",
       "      <td>TA</td>\n",
       "      <td>Typ</td>\n",
       "      <td>WD</td>\n",
       "    </tr>\n",
       "  </tbody>\n",
       "</table>\n",
       "</div>"
      ],
      "text/plain": [
       "     BsmtFinSF1 BsmtFinSF2 BsmtUnfSF TotalBsmtSF BsmtFullBath BsmtHalfBath  \\\n",
       "476       138.0        0.0     778.0       916.0          0.0          0.0   \n",
       "1313      276.0        0.0     936.0      1212.0          1.0          0.0   \n",
       "960       595.0      354.0     156.0      1105.0          1.0          0.0   \n",
       "246         0.0        0.0    1436.0      1436.0          0.0          0.0   \n",
       "1120      967.0        0.0     106.0      1073.0          1.0          0.0   \n",
       "1015      485.0        0.0     187.0       672.0          1.0          0.0   \n",
       "510      1082.0        0.0     538.0      1620.0          1.0          0.0   \n",
       "277       601.0      216.0     158.0       975.0          0.0          1.0   \n",
       "1373        0.0        0.0     945.0       945.0          0.0          0.0   \n",
       "918       915.0        0.0      93.0      1008.0          1.0          0.0   \n",
       "\n",
       "     GarageCars GarageArea MSZoning Utilities Exterior1st Exterior2nd  \\\n",
       "476         2.0      386.0       RL    AllPub     HdBoard     HdBoard   \n",
       "1313        1.0      240.0       RM    AllPub     MetalSd     MetalSd   \n",
       "960         1.0      280.0       RL    AllPub     VinylSd     VinylSd   \n",
       "246         2.0      529.0       FV    AllPub     VinylSd     VinylSd   \n",
       "1120        2.0      720.0  C (all)    AllPub     MetalSd     MetalSd   \n",
       "1015        1.0      240.0       RL    AllPub     Plywood     Plywood   \n",
       "510         4.0     1150.0       RL    AllPub     CemntBd     CmentBd   \n",
       "277         2.0      524.0       RL    AllPub     VinylSd     VinylSd   \n",
       "1373        2.0      638.0       RL    AllPub     VinylSd     VinylSd   \n",
       "918         2.0      570.0       RL    AllPub     VinylSd     VinylSd   \n",
       "\n",
       "     KitchenQual Functional SaleType  \n",
       "476           TA        Typ       WD  \n",
       "1313          TA        Typ       WD  \n",
       "960           TA       Min1       WD  \n",
       "246           Gd        Typ      New  \n",
       "1120          TA        Typ       WD  \n",
       "1015          TA        Typ       WD  \n",
       "510           Ex        Typ       WD  \n",
       "277           Gd        Typ       WD  \n",
       "1373          Gd        Typ      New  \n",
       "918           TA        Typ       WD  "
      ]
     },
     "execution_count": 53,
     "metadata": {},
     "output_type": "execute_result"
    }
   ],
   "source": [
    "X_test_clean_miss_var.sample(10)"
   ]
  },
  {
   "cell_type": "code",
   "execution_count": 54,
   "id": "921ae3c2",
   "metadata": {},
   "outputs": [
    {
     "data": {
      "text/plain": [
       "0"
      ]
     },
     "execution_count": 54,
     "metadata": {},
     "output_type": "execute_result"
    }
   ],
   "source": [
    "X_test_clean_miss_var.isnull().sum().sum()"
   ]
  },
  {
   "cell_type": "code",
   "execution_count": 57,
   "id": "f0b879d6",
   "metadata": {},
   "outputs": [
    {
     "data": {
      "text/plain": [
       "RL         1114\n",
       "RM          242\n",
       "FV           74\n",
       "C (all)      15\n",
       "RH           10\n",
       "Name: MSZoning, dtype: int64"
      ]
     },
     "execution_count": 57,
     "metadata": {},
     "output_type": "execute_result"
    }
   ],
   "source": [
    "# before pipelining\n",
    "test[\"MSZoning\"].value_counts()"
   ]
  },
  {
   "cell_type": "code",
   "execution_count": 58,
   "id": "857981fa",
   "metadata": {},
   "outputs": [
    {
     "data": {
      "text/plain": [
       "RL         1118\n",
       "RM          242\n",
       "FV           74\n",
       "C (all)      15\n",
       "RH           10\n",
       "Name: MSZoning, dtype: int64"
      ]
     },
     "execution_count": 58,
     "metadata": {},
     "output_type": "execute_result"
    }
   ],
   "source": [
    "# after pipelining\n",
    "X_test_clean_miss_var[\"MSZoning\"].value_counts()"
   ]
  },
  {
   "cell_type": "code",
   "execution_count": null,
   "id": "0750caa8",
   "metadata": {},
   "outputs": [],
   "source": []
  }
 ],
 "metadata": {
  "kernelspec": {
   "display_name": "Python 3",
   "language": "python",
   "name": "python3"
  },
  "language_info": {
   "codemirror_mode": {
    "name": "ipython",
    "version": 3
   },
   "file_extension": ".py",
   "mimetype": "text/x-python",
   "name": "python",
   "nbconvert_exporter": "python",
   "pygments_lexer": "ipython3",
   "version": "3.9.1"
  }
 },
 "nbformat": 4,
 "nbformat_minor": 5
}
